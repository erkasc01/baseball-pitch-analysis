{
 "cells": [
  {
   "cell_type": "code",
   "execution_count": 31,
   "id": "d23aac3d-9937-4198-be04-2821b189eeac",
   "metadata": {},
   "outputs": [],
   "source": [
    "from bs4 import BeautifulSoup\n",
    "from collections import defaultdict\n",
    "import copy\n",
    "import json\n",
    "import requests\n",
    "from transitions import Machine\n",
    "from transitions.extensions import GraphMachine"
   ]
  },
  {
   "cell_type": "code",
   "execution_count": 207,
   "id": "d791e01f-07a2-427d-88b2-6c16c500b676",
   "metadata": {
    "scrolled": true
   },
   "outputs": [],
   "source": [
    "url = \"https://baseballsavant.mlb.com/statcast_search?hfPT=&hfAB=&hfGT=R%7C&hfPR=&hfZ=&hfStadium=&hfBBL=&hfNewZones=&hfPull=&hfC=&hfSea=2024%7C&hfSit=&player_type=pitcher&hfOuts=&hfOpponent=&pitcher_throws=&batter_stands=&hfSA=&game_date_gt=&game_date_lt=&hfMo=&hfTeam=NYM%7C&home_road=&hfRO=&position=&hfInfield=&hfOutfield=&hfInn=&hfBBT=&hfFlag=&metric_1=&group_by=name-date&min_pitches=0&min_results=0&min_pas=0&sort_col=pitches&player_event_sort=api_p_release_speed&sort_order=desc\"#results\"\n",
    "lst = [requests.get(url)]\n",
    "\n",
    "# Url with results for a certain pitcher from one game\n",
    "url2= \"https://baseballsavant.mlb.com/statcast_search?hfPT=&hfAB=&hfGT=R%7C&hfPR=&hfZ=&hfStadium=&hfBBL=&hfNewZones=&hfPull=&hfC=&hfSea=2024%7C&hfSit=&player_type=pitcher&hfOuts=&hfOpponent=&pitcher_throws=&batter_stands=&hfSA=&game_date_gt=&game_date_lt=&hfMo=&hfTeam=NYM%7C&home_road=&hfRO=&position=&hfInfield=&hfOutfield=&hfInn=&hfBBT=&hfFlag=&metric_1=&group_by=name-date&min_pitches=0&min_results=0&min_pas=0&sort_col=pitches&player_event_sort=api_p_release_speed&sort_order=desc&type=details&player_id=622663&ep_game_date=2024-08-17&ep_game_pk=745785\"\n",
    "\n",
    "res = requests.get(url=url2)\n",
    "\n",
    "parser_input = res.text\n",
    "\n",
    "html_page = BeautifulSoup(parser_input, \"html.parser\")\n",
    "rows = html_page.find_all(attrs={\"style\": \"text-align: center;\"})\n",
    "pitch_data = [str(x) for x in rows if \"search-pitch-label\" in str(x)]\n",
    "pitch_sequence = [x.split(\"\\\">\")[2].split(\"<\")[0] for x in pitch_data]\n",
    "pitch_sequence.reverse()"
   ]
  },
  {
   "cell_type": "code",
   "execution_count": 219,
   "id": "b73cb224-53af-49e2-acc4-407a9f4b6e7e",
   "metadata": {},
   "outputs": [],
   "source": [
    "# Class that takes requests from baseball savant and preps them to be fed into\n",
    "# parser\n",
    "class SoupFactory:\n",
    "    def __init__(self, reqs: list[requests.models.Response]):\n",
    "        self.requests = reqs\n",
    "        self.num_pages = len(reqs)\n",
    "        self.valid_requests = self.check_response_codes()\n",
    "        \n",
    "    def check_response_codes(self):\n",
    "        valid_requests = []\n",
    "        for idx, req in enumerate(self.requests):\n",
    "            try:\n",
    "                if req.status_code == 200:\n",
    "                    valid_requests.append(req)\n",
    "            except ValueError:\n",
    "                print(f\"Warning: No status code found for request {idx} with status code {req.status_code}\") \n",
    "        return valid_requests\n",
    "        \n",
    "    def convert_to_soup(self):\n",
    "        souped_requests = []\n",
    "        for idx, req in enumerate(self.valid_requests):\n",
    "            try:\n",
    "                text = req.text\n",
    "                html_page = BeautifulSoup(text, \"html.parser\")\n",
    "                souped_requests.append(html_page)\n",
    "            except ValueError:\n",
    "                print(f\"Warn: Cannot parse text for request {idx}\")\n",
    "        if len(souped_requests) == 0:\n",
    "            print(\"Error: No requests could be parsed. Please ensure list of requests is non-empty.\")\n",
    "            return\n",
    "        else:\n",
    "            return souped_requests\n",
    "\n",
    "# This is expecting the main pitch page as an input \n",
    "class GameUrlRetriever:\n",
    "    \n",
    "    def __init__(self, base_url):\n",
    "        self.base_url = base_url\n",
    "        self.main_page = self.get_main_page()\n",
    "        self.urls = self.retrieve_urls(main_page)\n",
    "        \n",
    "    def get_main_page(self):\n",
    "        base_url_results = self.base_url + \"#results\"\n",
    "        result = [requests.get(base_url_results)]\n",
    "        main_page = SoupFactory(result).convert_to_soup()\n",
    "        return main_page\n",
    "        \n",
    "    def retrieve_urls(self, main_page):\n",
    "        # Exract all trs which contain the information we need to make API calls\n",
    "        # to the game pitch results\n",
    "        pitcher_trs = self.main_page[0].find_all(\"tr\", class_=\"search_row default-table-row\")\n",
    "        game_urls = []\n",
    "        for entry in pitcher_trs:\n",
    "            try:\n",
    "                player_name_date = str(entry).split(\"player_name-date_\")[1].split(\"\\\"\")[0]\n",
    "                player_name_date = player_name_date.split(\"_\")\n",
    "                player_id, date, game_id = player_name_date[0], player_name_date[1], player_name_date[2]\n",
    "                game_url = self.base_url + f\"&type=details&player_id={player_id}&ep_game_date={date}&ep_game_pk={game_id}\"\n",
    "                game_urls.append(game_url)\n",
    "            except ValueError:\n",
    "                print(\"Warn: failed to parse player, date, and game information from entry\")\n",
    "        return game_urls\n",
    "\n",
    "class Parser\n"
   ]
  },
  {
   "cell_type": "code",
   "execution_count": 15,
   "id": "bb078c3e-a56d-4404-b2d4-4fdebf874186",
   "metadata": {
    "scrolled": true
   },
   "outputs": [],
   "source": [
    "class MarkovChain:\n",
    "    # to do, convert sequence input to list of ints\n",
    "    def __init__(self, sequence: list[str]):\n",
    "        self.sequence = sequence\n",
    "        self.states = [state for state in set(sequence)]\n",
    "        self.sequence_length = len(sequence)\n",
    "        self.transition_counts = self.generate_counts()\n",
    "        self.transition_probabilities = self.generate_probabilities()\n",
    "        \n",
    "    def generate_counts(self):\n",
    "        states = set(self.sequence)\n",
    "        state_dict = defaultdict(lambda: defaultdict(int))\n",
    "        for state1 in states:\n",
    "            for state2 in states:\n",
    "                state_dict[state1][state2] = 0\n",
    "\n",
    "        old_pitch = self.sequence[0]\n",
    "        \n",
    "        for i in range(1,len(self.sequence)):\n",
    "            new_pitch = self.sequence[i]\n",
    "            state_dict[old_pitch][new_pitch] += 1\n",
    "            old_pitch = new_pitch\n",
    "        return state_dict\n",
    "        \n",
    "    def generate_probabilities(self):\n",
    "        transition_probabilities = copy.deepcopy(self.transition_counts)\n",
    "        \n",
    "        for state1 in transition_probabilities:\n",
    "            total_count = sum([x for x in transition_probabilities[state1].values()])\n",
    "            for state2 in transition_probabilities:\n",
    "                transition_probabilities[state1][state2] /= total_count\n",
    "        return transition_probabilities\n",
    "\n",
    "    def generate_state_machine(self):\n",
    "\n",
    "        transitions = []\n",
    "        for state1 in self.states:\n",
    "            for state2 in self.states:\n",
    "                if self.transition_probabilities[state1][state2] != 0:\n",
    "                    transitions.append({\"trigger\": str(round(self.transition_probabilities[state1][state2],3)), \"source\": state1, \"dest\": state2})\n",
    "        \n",
    "        pitch_machine = GraphMachine(states=self.states, transitions=transitions, initial=self.sequence[0])\n",
    "        return pitch_machine"
   ]
  },
  {
   "cell_type": "code",
   "execution_count": 16,
   "id": "5ca8d2cd-510e-4e13-9dd8-b47bf9bddc99",
   "metadata": {},
   "outputs": [],
   "source": [
    "temp = MarkovChain(pitch_sequence)"
   ]
  },
  {
   "cell_type": "code",
   "execution_count": 17,
   "id": "6c20f3ba-fc87-4e05-b331-5c21f5d0fc13",
   "metadata": {
    "scrolled": true
   },
   "outputs": [],
   "source": [
    "test = temp.generate_state_machine()"
   ]
  },
  {
   "cell_type": "code",
   "execution_count": 18,
   "id": "1a53f769-295a-493e-b48d-0a2a87f73846",
   "metadata": {},
   "outputs": [],
   "source": [
    "test.get_graph().draw('my_state_diagram.jpg', prog=\"dot\")"
   ]
  },
  {
   "cell_type": "code",
   "execution_count": 10,
   "id": "69aa7924-fe33-44b6-941a-e67bd71d8599",
   "metadata": {
    "scrolled": true
   },
   "outputs": [
    {
     "data": {
      "text/plain": [
       "defaultdict(<function __main__.MarkovChain.generate_counts.<locals>.<lambda>()>,\n",
       "            {'ST': defaultdict(int,\n",
       "                         {'ST': 0.23529411764705882,\n",
       "                          'CH': 0.058823529411764705,\n",
       "                          'SI': 0.17647058823529413,\n",
       "                          'SL': 0.0,\n",
       "                          'FF': 0.29411764705882354,\n",
       "                          'FC': 0.23529411764705882}),\n",
       "             'CH': defaultdict(int,\n",
       "                         {'ST': 0.0,\n",
       "                          'CH': 0.0,\n",
       "                          'SI': 0.0,\n",
       "                          'SL': 0.0,\n",
       "                          'FF': 1.0,\n",
       "                          'FC': 0.0}),\n",
       "             'SI': defaultdict(int,\n",
       "                         {'ST': 0.21052631578947367,\n",
       "                          'CH': 0.0,\n",
       "                          'SI': 0.3684210526315789,\n",
       "                          'SL': 0.0,\n",
       "                          'FF': 0.2631578947368421,\n",
       "                          'FC': 0.15789473684210525}),\n",
       "             'SL': defaultdict(int,\n",
       "                         {'ST': 0.0,\n",
       "                          'CH': 0.0,\n",
       "                          'SI': 0.0,\n",
       "                          'SL': 0.0,\n",
       "                          'FF': 0.6666666666666666,\n",
       "                          'FC': 0.3333333333333333}),\n",
       "             'FF': defaultdict(int,\n",
       "                         {'ST': 0.14893617021276595,\n",
       "                          'CH': 0.0425531914893617,\n",
       "                          'SI': 0.10638297872340426,\n",
       "                          'SL': 0.0425531914893617,\n",
       "                          'FF': 0.574468085106383,\n",
       "                          'FC': 0.0851063829787234}),\n",
       "             'FC': defaultdict(int,\n",
       "                         {'ST': 0.13043478260869565,\n",
       "                          'CH': 0.0,\n",
       "                          'SI': 0.17391304347826086,\n",
       "                          'SL': 0.043478260869565216,\n",
       "                          'FF': 0.17391304347826086,\n",
       "                          'FC': 0.4782608695652174})})"
      ]
     },
     "execution_count": 10,
     "metadata": {},
     "output_type": "execute_result"
    }
   ],
   "source": [
    "temp.transition_probabilities"
   ]
  },
  {
   "cell_type": "code",
   "execution_count": 218,
   "id": "ebfa0022-8efd-4739-a770-c4e8392cade2",
   "metadata": {
    "scrolled": true
   },
   "outputs": [
    {
     "name": "stdout",
     "output_type": "stream",
     "text": [
      "https://baseballsavant.mlb.com/statcast_search?hfPT=&hfAB=&hfGT=R%7C&hfPR=&hfZ=&hfStadium=&hfBBL=&hfNewZones=&hfPull=&hfC=&hfSea=2024%7C&hfSit=&player_type=pitcher&hfOuts=&hfOpponent=&pitcher_throws=&batter_stands=&hfSA=&game_date_gt=&game_date_lt=&hfMo=&hfTeam=NYM%7C&home_road=&hfRO=&position=&hfInfield=&hfOutfield=&hfInn=&hfBBT=&hfFlag=&metric_1=&group_by=name-date&min_pitches=0&min_results=0&min_pas=0&sort_col=pitches&player_event_sort=api_p_release_speed&sort_order=desc\n"
     ]
    }
   ],
   "source": [
    "url = \"https://baseballsavant.mlb.com/statcast_search?hfPT=&hfAB=&hfGT=R%7C&hfPR=&hfZ=&hfStadium=&hfBBL=&hfNewZones=&hfPull=&hfC=&hfSea=2024%7C&hfSit=&player_type=pitcher&hfOuts=&hfOpponent=&pitcher_throws=&batter_stands=&hfSA=&game_date_gt=&game_date_lt=&hfMo=&hfTeam=NYM%7C&home_road=&hfRO=&position=&hfInfield=&hfOutfield=&hfInn=&hfBBT=&hfFlag=&metric_1=&group_by=name-date&min_pitches=0&min_results=0&min_pas=0&sort_col=pitches&player_event_sort=api_p_release_speed&sort_order=desc\"#results\"\n",
    "game_urls = GameUrlRetriever(url)"
   ]
  },
  {
   "cell_type": "code",
   "execution_count": 220,
   "id": "ac38d994-24ac-4e75-b870-59e9a694bbc4",
   "metadata": {},
   "outputs": [
    {
     "data": {
      "text/plain": [
       "677"
      ]
     },
     "execution_count": 220,
     "metadata": {},
     "output_type": "execute_result"
    }
   ],
   "source": [
    "game_urls.urls"
   ]
  },
  {
   "cell_type": "code",
   "execution_count": null,
   "id": "4a055238-4226-4822-9987-8c72eb8a6041",
   "metadata": {},
   "outputs": [],
   "source": []
  }
 ],
 "metadata": {
  "kernelspec": {
   "display_name": "env",
   "language": "python",
   "name": "env"
  },
  "language_info": {
   "codemirror_mode": {
    "name": "ipython",
    "version": 3
   },
   "file_extension": ".py",
   "mimetype": "text/x-python",
   "name": "python",
   "nbconvert_exporter": "python",
   "pygments_lexer": "ipython3",
   "version": "3.12.4"
  }
 },
 "nbformat": 4,
 "nbformat_minor": 5
}
