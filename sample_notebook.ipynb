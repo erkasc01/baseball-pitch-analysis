{
 "cells": [
  {
   "cell_type": "code",
   "execution_count": 4,
   "id": "ef985320-bb6b-49fa-a07a-d527dae25d48",
   "metadata": {},
   "outputs": [],
   "source": [
    "from transitions import Machine\n",
    "from transitions.extensions import GraphMachine\n",
    "from baseball_db_generator import *"
   ]
  },
  {
   "cell_type": "code",
   "execution_count": null,
   "id": "1b221d0c-ccbd-48f2-86fb-112551025f74",
   "metadata": {},
   "outputs": [],
   "source": [
    "# Get urls and prep info for the url processor\n",
    "url = \"https://baseballsavant.mlb.com/statcast_search?hfPT=&hfAB=&hfGT=R%7C&hfPR=&hfZ=&hfStadium=&hfBBL=&hfNewZones=&hfPull=&hfC=&hfSea=2024%7C&hfSit=&player_type=pitcher&hfOuts=&hfOpponent=&pitcher_throws=&batter_stands=&hfSA=&game_date_gt=&game_date_lt=&hfMo=&hfTeam=&home_road=&hfRO=&position=&hfInfield=&hfOutfield=&hfInn=&hfBBT=&hfFlag=&metric_1=&group_by=name-date&min_pitches=0&min_results=0&min_pas=0&sort_col=pitches&player_event_sort=api_p_release_speed&sort_order=desc\"\n",
    "game_urls = GameUrlRetriever(url)\n",
    "# populate_pitchers_table(url)\n",
    "# Process urls to get pitches\n",
    "gup = GameUrlProcessor(game_urls.urls)\n",
    "gup.process_urls()"
   ]
  },
  {
   "cell_type": "code",
   "execution_count": null,
   "id": "d791e01f-07a2-427d-88b2-6c16c500b676",
   "metadata": {
    "scrolled": true
   },
   "outputs": [],
   "source": [
    "url = \"https://baseballsavant.mlb.com/statcast_search?hfPT=&hfAB=&hfGT=R%7C&hfPR=&hfZ=&hfStadium=&hfBBL=&hfNewZones=&hfPull=&hfC=&hfSea=2024%7C&hfSit=&player_type=pitcher&hfOuts=&hfOpponent=&pitcher_throws=&batter_stands=&hfSA=&game_date_gt=&game_date_lt=&hfMo=&hfTeam=NYM%7C&home_road=&hfRO=&position=&hfInfield=&hfOutfield=&hfInn=&hfBBT=&hfFlag=&metric_1=&group_by=name-date&min_pitches=0&min_results=0&min_pas=0&sort_col=pitches&player_event_sort=api_p_release_speed&sort_order=desc\"#results\"\n",
    "lst = [requests.get(url)]\n",
    "\n",
    "# Url with results for a certain pitcher from one game\n",
    "url2= \"https://baseballsavant.mlb.com/statcast_search?hfPT=&hfAB=&hfGT=R%7C&hfPR=&hfZ=&hfStadium=&hfBBL=&hfNewZones=&hfPull=&hfC=&hfSea=2024%7C&hfSit=&player_type=pitcher&hfOuts=&hfOpponent=&pitcher_throws=&batter_stands=&hfSA=&game_date_gt=&game_date_lt=&hfMo=&hfTeam=NYM%7C&home_road=&hfRO=&position=&hfInfield=&hfOutfield=&hfInn=&hfBBT=&hfFlag=&metric_1=&group_by=name-date&min_pitches=0&min_results=0&min_pas=0&sort_col=pitches&player_event_sort=api_p_release_speed&sort_order=desc&type=details&player_id=622663&ep_game_date=2024-08-17&ep_game_pk=745785\"\n",
    "\n",
    "res = requests.get(url=url2)\n",
    "\n",
    "parser_input = res.text\n",
    "\n",
    "html_page = BeautifulSoup(parser_input, \"html.parser\")\n",
    "rows = html_page.find_all(attrs={\"style\": \"text-align: center;\"})\n",
    "pitch_data = [str(x) for x in rows if \"search-pitch-label\" in str(x)]\n",
    "pitch_sequence = [x.split(\"\\\">\")[2].split(\"<\")[0] for x in pitch_data]\n",
    "pitch_sequence.reverse()"
   ]
  },
  {
   "cell_type": "code",
   "execution_count": null,
   "id": "b73cb224-53af-49e2-acc4-407a9f4b6e7e",
   "metadata": {},
   "outputs": [],
   "source": [
    "\n",
    "        "
   ]
  },
  {
   "cell_type": "code",
   "execution_count": null,
   "id": "a01cf0ab-e3f2-4754-89b9-b4a1a0d3313d",
   "metadata": {},
   "outputs": [],
   "source": [
    "# Get urls and prep info for the url processor\n",
    "url = \"https://baseballsavant.mlb.com/statcast_search?hfPT=&hfAB=&hfGT=R%7C&hfPR=&hfZ=&hfStadium=&hfBBL=&hfNewZones=&hfPull=&hfC=&hfSea=2024%7C&hfSit=&player_type=pitcher&hfOuts=&hfOpponent=&pitcher_throws=&batter_stands=&hfSA=&game_date_gt=&game_date_lt=&hfMo=&hfTeam=&home_road=&hfRO=&position=&hfInfield=&hfOutfield=&hfInn=&hfBBT=&hfFlag=&metric_1=&group_by=name-date&min_pitches=0&min_results=0&min_pas=0&sort_col=pitches&player_event_sort=api_p_release_speed&sort_order=desc\"\n",
    "game_urls = GameUrlRetriever(url)\n",
    "\n"
   ]
  },
  {
   "cell_type": "code",
   "execution_count": null,
   "id": "bb078c3e-a56d-4404-b2d4-4fdebf874186",
   "metadata": {
    "scrolled": true
   },
   "outputs": [],
   "source": [
    "class MarkovChain:\n",
    "    # to do, convert sequence input to list of ints\n",
    "    def __init__(self, sequence: list[str]):\n",
    "        self.sequence = sequence\n",
    "        self.states = [state for state in set(sequence)]\n",
    "        self.sequence_length = len(sequence)\n",
    "        self.transition_counts = self.generate_counts()\n",
    "        self.transition_probabilities = self.generate_probabilities()\n",
    "        \n",
    "    def generate_counts(self):\n",
    "        states = set(self.sequence)\n",
    "        state_dict = defaultdict(lambda: defaultdict(int))\n",
    "        for state1 in states:\n",
    "            for state2 in states:\n",
    "                state_dict[state1][state2] = 0\n",
    "        old_pitch = self.sequence[0]\n",
    "        \n",
    "        for i in range(1,len(self.sequence)):\n",
    "            new_pitch = self.sequence[i]\n",
    "            state_dict[old_pitch][new_pitch] += 1\n",
    "            old_pitch = new_pitch\n",
    "        return state_dict\n",
    "        \n",
    "    def generate_probabilities(self):\n",
    "        transition_probabilities = copy.deepcopy(self.transition_counts)\n",
    "        \n",
    "        for state1 in transition_probabilities:\n",
    "            total_count = sum([x for x in transition_probabilities[state1].values()])\n",
    "            for state2 in transition_probabilities:\n",
    "                transition_probabilities[state1][state2] /= total_count\n",
    "        return transition_probabilities\n",
    "\n",
    "    def generate_state_machine(self):\n",
    "\n",
    "        transitions = []\n",
    "        for state1 in self.states:\n",
    "            for state2 in self.states:\n",
    "                if self.transition_probabilities[state1][state2] != 0:\n",
    "                    transitions.append({\"trigger\": str(round(self.transition_probabilities[state1][state2],3)), \"source\": state1, \"dest\": state2})\n",
    "        \n",
    "        pitch_machine = GraphMachine(states=self.states, transitions=transitions, initial=self.sequence[0])\n",
    "        return pitch_machine"
   ]
  },
  {
   "cell_type": "code",
   "execution_count": null,
   "id": "5ca8d2cd-510e-4e13-9dd8-b47bf9bddc99",
   "metadata": {},
   "outputs": [],
   "source": [
    "temp = MarkovChain(pitch_sequence)"
   ]
  },
  {
   "cell_type": "code",
   "execution_count": null,
   "id": "6c20f3ba-fc87-4e05-b331-5c21f5d0fc13",
   "metadata": {
    "scrolled": true
   },
   "outputs": [],
   "source": [
    "test = temp.generate_state_machine()"
   ]
  },
  {
   "cell_type": "code",
   "execution_count": null,
   "id": "1a53f769-295a-493e-b48d-0a2a87f73846",
   "metadata": {},
   "outputs": [],
   "source": [
    "test.get_graph().draw('my_state_diagram.jpg', prog=\"dot\")"
   ]
  },
  {
   "cell_type": "code",
   "execution_count": null,
   "id": "69aa7924-fe33-44b6-941a-e67bd71d8599",
   "metadata": {
    "scrolled": true
   },
   "outputs": [],
   "source": [
    "temp.transition_probabilities"
   ]
  },
  {
   "cell_type": "code",
   "execution_count": null,
   "id": "ebfa0022-8efd-4739-a770-c4e8392cade2",
   "metadata": {
    "scrolled": true
   },
   "outputs": [],
   "source": [
    "url = \"https://baseballsavant.mlb.com/statcast_search?hfPT=&hfAB=&hfGT=R%7C&hfPR=&hfZ=&hfStadium=&hfBBL=&hfNewZones=&hfPull=&hfC=&hfSea=2024%7C&hfSit=&player_type=pitcher&hfOuts=&hfOpponent=&pitcher_throws=&batter_stands=&hfSA=&game_date_gt=&game_date_lt=&hfMo=&hfTeam=&home_road=&hfRO=&position=&hfInfield=&hfOutfield=&hfInn=&hfBBT=&hfFlag=&metric_1=&group_by=name-date&min_pitches=0&min_results=0&min_pas=0&sort_col=pitches&player_event_sort=api_p_release_speed&sort_order=desc\"\n",
    "game_urls = GameUrlRetriever(url)"
   ]
  },
  {
   "cell_type": "code",
   "execution_count": null,
   "id": "ac38d994-24ac-4e75-b870-59e9a694bbc4",
   "metadata": {},
   "outputs": [],
   "source": [
    "game_urls.urls[2]"
   ]
  },
  {
   "cell_type": "code",
   "execution_count": null,
   "id": "6ad5185e-32b4-4931-8ecb-977c407c8bd8",
   "metadata": {},
   "outputs": [],
   "source": [
    "test = requests.get(game_urls.urls[2][\"game_url\"])\n"
   ]
  },
  {
   "cell_type": "code",
   "execution_count": null,
   "id": "b0ef445c-814e-4ec7-a2d5-61c6c08e4d88",
   "metadata": {
    "scrolled": true
   },
   "outputs": [],
   "source": [
    "page = SoupFactory([test]).convert_to_soup()"
   ]
  },
  {
   "cell_type": "code",
   "execution_count": null,
   "id": "f052c0dc-f616-4e54-a4a1-0a8704b619fa",
   "metadata": {},
   "outputs": [],
   "source": [
    "rows = page[0].find_all(attrs={\"style\": \"text-align: center;\"})\n",
    "trs = page[0].find_all(\"tr\")\n",
    "pitch_data = [str(x) for x in rows if \"search-pitch-label\" in str(x)]\n",
    "pitch_sequence = [x.split(\"\\\">\")[2].split(\"<\")[0] for x in pitch_data]\n",
    "pitch_sequence.reverse()"
   ]
  },
  {
   "cell_type": "code",
   "execution_count": null,
   "id": "06d2800b-93bc-4f3e-9c49-1d3da5b0139f",
   "metadata": {
    "scrolled": true
   },
   "outputs": [],
   "source": [
    "\n",
    "for idx, pitch in enumerate(pitch_sequence):\n",
    "    pitch_instance = Pitch(pitch_type=pitch, pitcher_id"
   ]
  },
  {
   "cell_type": "code",
   "execution_count": null,
   "id": "d40bde73-312b-421d-803f-fa259809269a",
   "metadata": {
    "scrolled": true
   },
   "outputs": [],
   "source": [
    "page"
   ]
  },
  {
   "cell_type": "code",
   "execution_count": null,
   "id": "5a709b77-771d-4f2e-a583-b4fb594fcaa8",
   "metadata": {
    "scrolled": true
   },
   "outputs": [],
   "source": [
    "trs = page[0].find_all(\"tr\")[1:-1]\n",
    "pitcher_id_int = int(game_urls.urls[2][\"player_id\"])\n",
    "game_id_int = int(game_urls.urls[2][\"game_id\"])\n",
    "for idx, tr in enumerate(trs):\n",
    "    pitch_data = []\n",
    "    for elem in tr:\n",
    "        inner_text = elem.text.strip()\n",
    "        if inner_text != \"\":\n",
    "            pitch_data.append(inner_text)\n",
    "    try:\n",
    "        pitch_date_str = pitch_data[0]\n",
    "        pitch_type_str = pitch_data[1]\n",
    "        pitch_mph_flo = float(pitch_data[2])\n",
    "        spin_rate_int = int(pitch_data[3])\n",
    "        pitch_number_int = idx\n",
    "        pitch_result_str = pitch_data[-2]\n",
    "        pa_result_str = pitch_data[-1]\n",
    "        new_pitch = Pitch(\n",
    "            pitcher_id=pitcher_id_int, \n",
    "            game_id=game_id_int,\n",
    "            pitch_number=pitch_number_int,\n",
    "            pitch_type=pitch_type_str,\n",
    "            pitch_result=pitch_result_str,\n",
    "            pa_result=pa_result_str,\n",
    "            spin_rate=spin_rate_int,\n",
    "            pitch_mph=pitch_mph_flo,\n",
    "            pitch_date=pitch_date_str\n",
    "        )\n",
    "        db.add(new_pitch)\n",
    "        db.commit()\n",
    "    except ValueError:\n",
    "        print(\"Error parsing pitch data. Skipping row\")"
   ]
  },
  {
   "cell_type": "code",
   "execution_count": null,
   "id": "c7c0f953-8bd0-4bf8-84a9-a8164a55fb13",
   "metadata": {},
   "outputs": [],
   "source": [
    "len(game_urls.urls)"
   ]
  },
  {
   "cell_type": "code",
   "execution_count": null,
   "id": "8727a1e7-18fa-4dfa-99a4-3c2ba19db90c",
   "metadata": {},
   "outputs": [],
   "source": [
    "pitch_date_str"
   ]
  },
  {
   "cell_type": "code",
   "execution_count": null,
   "id": "06719c63-92fe-4f2c-9d6e-47e6040ef801",
   "metadata": {},
   "outputs": [],
   "source": []
  }
 ],
 "metadata": {
  "kernelspec": {
   "display_name": "env",
   "language": "python",
   "name": "env"
  },
  "language_info": {
   "codemirror_mode": {
    "name": "ipython",
    "version": 3
   },
   "file_extension": ".py",
   "mimetype": "text/x-python",
   "name": "python",
   "nbconvert_exporter": "python",
   "pygments_lexer": "ipython3",
   "version": "3.12.4"
  }
 },
 "nbformat": 4,
 "nbformat_minor": 5
}
