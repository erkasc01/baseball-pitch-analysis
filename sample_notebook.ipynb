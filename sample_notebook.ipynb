{
 "cells": [
  {
   "cell_type": "code",
   "execution_count": 4,
   "id": "ef985320-bb6b-49fa-a07a-d527dae25d48",
   "metadata": {},
   "outputs": [],
   "source": [
    "from transitions import Machine\n",
    "from transitions.extensions import GraphMachine\n",
    "from baseball_db_generator import *"
   ]
  },
  {
   "cell_type": "code",
   "execution_count": null,
   "id": "1b221d0c-ccbd-48f2-86fb-112551025f74",
   "metadata": {},
   "outputs": [],
   "source": [
    "# Get urls and prep info for the url processor\n",
    "url = \"https://baseballsavant.mlb.com/statcast_search?hfPT=&hfAB=&hfGT=R%7C&hfPR=&hfZ=&hfStadium=&hfBBL=&hfNewZones=&hfPull=&hfC=&hfSea=2024%7C&hfSit=&player_type=pitcher&hfOuts=&hfOpponent=&pitcher_throws=&batter_stands=&hfSA=&game_date_gt=&game_date_lt=&hfMo=&hfTeam=&home_road=&hfRO=&position=&hfInfield=&hfOutfield=&hfInn=&hfBBT=&hfFlag=&metric_1=&group_by=name-date&min_pitches=0&min_results=0&min_pas=0&sort_col=pitches&player_event_sort=api_p_release_speed&sort_order=desc\"\n",
    "game_urls = GameUrlRetriever(url)\n",
    "# populate_pitchers_table(url)\n",
    "# Process urls to get pitches\n",
    "gup = GameUrlProcessor(game_urls.urls)\n",
    "gup.process_urls()"
   ]
  },
  {
   "cell_type": "code",
   "execution_count": null,
   "id": "b73cb224-53af-49e2-acc4-407a9f4b6e7e",
   "metadata": {},
   "outputs": [],
   "source": [
    "\n",
    "        "
   ]
  }
 ],
 "metadata": {
  "kernelspec": {
   "display_name": "env",
   "language": "python",
   "name": "env"
  },
  "language_info": {
   "codemirror_mode": {
    "name": "ipython",
    "version": 3
   },
   "file_extension": ".py",
   "mimetype": "text/x-python",
   "name": "python",
   "nbconvert_exporter": "python",
   "pygments_lexer": "ipython3",
   "version": "3.12.4"
  }
 },
 "nbformat": 4,
 "nbformat_minor": 5
}
