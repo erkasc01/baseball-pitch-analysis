{
 "cells": [
  {
   "cell_type": "code",
   "execution_count": null,
   "id": "ef985320-bb6b-49fa-a07a-d527dae25d48",
   "metadata": {},
   "outputs": [],
   "source": [
    "from transitions import Machine\n",
    "from transitions.extensions import GraphMachine\n",
    "from main.models import SessionLocal, Pitch, Pitcher"
   ]
  },
  {
   "cell_type": "code",
   "execution_count": null,
   "id": "1b221d0c-ccbd-48f2-86fb-112551025f74",
   "metadata": {},
   "outputs": [],
   "source": [
    "session = SessionLocal()"
   ]
  },
  {
   "cell_type": "code",
   "execution_count": null,
   "id": "b73cb224-53af-49e2-acc4-407a9f4b6e7e",
   "metadata": {},
   "outputs": [],
   "source": [
    "test = (\n",
    "    session.query(Pitch)\n",
    "    .join(Pitcher, Pitch.pitcher_id == Pitcher.pitcher_id)\n",
    "    .filter(Pitcher.pitcher_name == \"Luis Severino\")\n",
    "    .order_by(Pitch.game_id.desc(), Pitch.pitch_number.asc()))"
   ]
  },
  {
   "cell_type": "code",
   "execution_count": null,
   "id": "b7930f82-3549-4c9a-82b5-b94895cfc96e",
   "metadata": {
    "scrolled": true
   },
   "outputs": [],
   "source": [
    "for entry in test:\n",
    "    print(f\"{entry.game_id},{entry.pitch_type}, {entry.pitch_number}\")"
   ]
  },
  {
   "cell_type": "code",
   "execution_count": null,
   "id": "e188ad1d-dadc-4ed2-98e0-6eb467fb2178",
   "metadata": {},
   "outputs": [],
   "source": []
  }
 ],
 "metadata": {
  "kernelspec": {
   "display_name": "env",
   "language": "python",
   "name": "env"
  },
  "language_info": {
   "codemirror_mode": {
    "name": "ipython",
    "version": 3
   },
   "file_extension": ".py",
   "mimetype": "text/x-python",
   "name": "python",
   "nbconvert_exporter": "python",
   "pygments_lexer": "ipython3",
   "version": "3.12.4"
  }
 },
 "nbformat": 4,
 "nbformat_minor": 5
}
