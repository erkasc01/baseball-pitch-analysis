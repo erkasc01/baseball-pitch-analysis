{
 "cells": [
  {
   "cell_type": "code",
   "execution_count": 13,
   "id": "ef985320-bb6b-49fa-a07a-d527dae25d48",
   "metadata": {},
   "outputs": [],
   "source": [
    "from main.markov import MarkovChain\n",
    "from main.query_tools import PitcherQuery\n"
   ]
  },
  {
   "cell_type": "code",
   "execution_count": 19,
   "id": "74658f12-7931-4f7f-96da-cbdb125881f4",
   "metadata": {
    "scrolled": true
   },
   "outputs": [],
   "source": [
    "pitcher_name = \"Luis Severino\"\n",
    "pitch_dic = PitcherQuery(pitcher_name)\n",
    "res = pitch_dic.query_results\n",
    "temp = MarkovChain(res)\n",
    "qqq = temp.generate_state_machine()"
   ]
  },
  {
   "cell_type": "code",
   "execution_count": 20,
   "id": "68c18520-d2d3-4c6b-abb6-28fd8a639386",
   "metadata": {
    "scrolled": true
   },
   "outputs": [],
   "source": [
    "qqq.get_graph().draw(f\"diagrams/{pitcher_name.replace(\" \", \"_\")}_state_machine.jpg\", prog=\"dot\")"
   ]
  }
 ],
 "metadata": {
  "kernelspec": {
   "display_name": "env",
   "language": "python",
   "name": "env"
  },
  "language_info": {
   "codemirror_mode": {
    "name": "ipython",
    "version": 3
   },
   "file_extension": ".py",
   "mimetype": "text/x-python",
   "name": "python",
   "nbconvert_exporter": "python",
   "pygments_lexer": "ipython3",
   "version": "3.12.4"
  }
 },
 "nbformat": 4,
 "nbformat_minor": 5
}
